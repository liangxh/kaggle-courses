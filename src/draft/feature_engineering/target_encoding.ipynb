{
 "cells": [
  {
   "cell_type": "code",
   "execution_count": 1,
   "id": "9f8064e3",
   "metadata": {},
   "outputs": [],
   "source": [
    "import numpy as np\n",
    "import pandas as pd\n",
    "from category_encoders import MEstimateEncoder\n",
    "from sklearn.model_selection import cross_val_score\n",
    "from xgboost import XGBRegressor"
   ]
  },
  {
   "cell_type": "code",
   "execution_count": 2,
   "id": "2f0caa3d",
   "metadata": {},
   "outputs": [],
   "source": [
    "import matplotlib.pyplot as plt\n",
    "import seaborn as sns"
   ]
  },
  {
   "cell_type": "code",
   "execution_count": 3,
   "id": "3d84c5dd",
   "metadata": {},
   "outputs": [],
   "source": [
    "plt.style.use(\"seaborn-whitegrid\")\n",
    "plt.rc(\"figure\", autolayout=True)\n",
    "plt.rc(\"axes\", labelweight=\"bold\",  labelsize=\"large\", titleweight=\"bold\", titlesize=14, titlepad=10)"
   ]
  },
  {
   "cell_type": "code",
   "execution_count": 4,
   "id": "517df219",
   "metadata": {},
   "outputs": [],
   "source": [
    "class Course:\n",
    "    @staticmethod\n",
    "    def load_data():\n",
    "        df = pd.read_csv(\"../../input/fe-course-data/movielens1m.csv\")\n",
    "        df = df.astype(np.uint8, errors='ignore')\n",
    "        return df\n",
    "\n",
    "    @staticmethod\n",
    "    def split_df_for_encode(df, y_label):\n",
    "        X = df.copy()\n",
    "\n",
    "        X_encode = X.sample(frac=0.25)\n",
    "        y_encode = X_encode.pop(y_label)\n",
    "\n",
    "        # Training split\n",
    "        X_pretrain = df.drop(X_encode.index)\n",
    "        y_train = X_pretrain.pop(y_label)\n",
    "        return (X_encode, y_encode), (X_pretrain, y_train)\n",
    "\n",
    "    @staticmethod\n",
    "    def get_m_estimate_encoder(X, y, col):\n",
    "        encoder = MEstimateEncoder(cols=[col, ], m=5.0)\n",
    "        # encoder.cols 可以获取 cols\n",
    "        encoder.fit(X, y)\n",
    "        return encoder\n",
    "\n",
    "    @staticmethod\n",
    "    def encode_m_estimate(encoder, X):\n",
    "        return encoder.transform(X)\n",
    "\n",
    "    @staticmethod\n",
    "    def show_encoding_result(X, y, feature_label, y_label):\n",
    "        plt.figure(dpi=90)\n",
    "        # 显示 y 的不同值的出现次数分布图\n",
    "        ax = sns.distplot(y, kde=False, norm_hist=True)\n",
    "        # kdeplot, kernel density estimation, 核密度估计图\n",
    "        ax = sns.kdeplot(X[feature_label], color='r', ax=ax)\n",
    "        # 或者 sns.distplot(X[feature_label], color='r', ax=ax, kde=True, hist=False)\n",
    "        # hist=True, histogram\n",
    "        # kde=True, gaussian kernel density estimation 高斯核密度估计图\n",
    "        # norm_hist=False, histogram 的 count 改成 density\n",
    "\n",
    "        ax.set_xlabel(y_label)\n",
    "        ax.legend(labels=[feature_label, y_label])\n",
    "\n",
    "    @staticmethod\n",
    "    def score_dataset(X, y, model=XGBRegressor()):\n",
    "        for colname in X.select_dtypes([\"category\", \"object\"]):\n",
    "            X[colname], _ = X[colname].factorize()\n",
    "        score = cross_val_score(model, X, y, cv=5, scoring=\"neg_mean_squared_log_error\")\n",
    "        return - np.sqrt(score.mean())\n",
    "\n",
    "    @staticmethod\n",
    "    def find_object_features(df):\n",
    "        return df.select_dtypes([\"object\"]).nunique()\n",
    "\n",
    "    @staticmethod\n",
    "    def get_value_counts(df, feature):\n",
    "        return df[feature].value_counts()"
   ]
  },
  {
   "cell_type": "code",
   "execution_count": 5,
   "id": "a219c9bf",
   "metadata": {},
   "outputs": [],
   "source": [
    "df = Course.load_data()"
   ]
  },
  {
   "cell_type": "code",
   "execution_count": 6,
   "id": "6f8e345f",
   "metadata": {},
   "outputs": [],
   "source": [
    "y_label = \"Rating\"\n",
    "(X_encode, y_encode), (X_pretrain, y_train) = Course.split_df_for_encode(df, y_label)"
   ]
  },
  {
   "cell_type": "code",
   "execution_count": 7,
   "id": "295e13db",
   "metadata": {},
   "outputs": [],
   "source": [
    "feature_label = \"Zipcode\"\n",
    "encoder = Course.get_m_estimate_encoder(X_encode, y_encode, feature_label)"
   ]
  },
  {
   "cell_type": "code",
   "execution_count": 8,
   "id": "4f810376",
   "metadata": {},
   "outputs": [
    {
     "data": {
      "text/plain": [
       "0          b'50021'\n",
       "3          b'60073'\n",
       "6          b'60626'\n",
       "8          b'08876'\n",
       "9          b'78759'\n",
       "             ...   \n",
       "1000201    b'95014'\n",
       "1000203    b'68108'\n",
       "1000205    b'22032'\n",
       "1000206    b'80916'\n",
       "1000207    b'93428'\n",
       "Name: Zipcode, Length: 750157, dtype: object"
      ]
     },
     "execution_count": 8,
     "metadata": {},
     "output_type": "execute_result"
    }
   ],
   "source": [
    "X_pretrain[feature_label]"
   ]
  },
  {
   "cell_type": "code",
   "execution_count": 9,
   "id": "b096d91a",
   "metadata": {},
   "outputs": [],
   "source": [
    "X_train = Course.encode_m_estimate(encoder, X_pretrain)"
   ]
  },
  {
   "cell_type": "code",
   "execution_count": 10,
   "id": "8f25a630",
   "metadata": {},
   "outputs": [
    {
     "data": {
      "text/plain": [
       "0          3.775963\n",
       "3          3.643425\n",
       "6          3.622035\n",
       "8          3.688046\n",
       "9          3.104265\n",
       "             ...   \n",
       "1000201    3.690880\n",
       "1000203    3.592266\n",
       "1000205    3.851232\n",
       "1000206    3.637439\n",
       "1000207    3.843361\n",
       "Name: Zipcode, Length: 750157, dtype: float64"
      ]
     },
     "execution_count": 10,
     "metadata": {},
     "output_type": "execute_result"
    }
   ],
   "source": [
    "X_train[feature_label]"
   ]
  },
  {
   "cell_type": "code",
   "execution_count": 13,
   "id": "fe770ecd",
   "metadata": {},
   "outputs": [
    {
     "name": "stderr",
     "output_type": "stream",
     "text": [
      "/Users/lxh/.virtualenv/alisa/lib/python3.8/site-packages/seaborn/distributions.py:2619: FutureWarning: `distplot` is a deprecated function and will be removed in a future version. Please adapt your code to use either `displot` (a figure-level function with similar flexibility) or `histplot` (an axes-level function for histograms).\n",
      "  warnings.warn(msg, FutureWarning)\n"
     ]
    },
    {
     "data": {
      "text/plain": [
       "<matplotlib.legend.Legend at 0x13ed173d0>"
      ]
     },
     "execution_count": 13,
     "metadata": {},
     "output_type": "execute_result"
    },
    {
     "data": {
      "image/png": "[encoded data removed]",
      "text/plain": [
       "<Figure size 540x360 with 1 Axes>"
      ]
     },
     "metadata": {},
     "output_type": "display_data"
    }
   ],
   "source": [
    "plt.figure(dpi=90)\n",
    "ax = sns.distplot(y_train, kde=False, norm_hist=True)\n",
    "ax = sns.kdeplot(X_train.Zipcode, color='r', ax=ax)\n",
    "ax.set_xlabel(y_label)\n",
    "ax.legend(labels=[feature_label, y_label])"
   ]
  },
  {
   "cell_type": "code",
   "execution_count": null,
   "id": "94e6647b",
   "metadata": {},
   "outputs": [],
   "source": []
  }
 ],
 "metadata": {
  "kernelspec": {
   "display_name": "Python 3 (ipykernel)",
   "language": "python",
   "name": "python3"
  },
  "language_info": {
   "codemirror_mode": {
    "name": "ipython",
    "version": 3
   },
   "file_extension": ".py",
   "mimetype": "text/x-python",
   "name": "python",
   "nbconvert_exporter": "python",
   "pygments_lexer": "ipython3",
   "version": "3.8.2"
  }
 },
 "nbformat": 4,
 "nbformat_minor": 5
}
